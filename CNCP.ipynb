{
  "nbformat": 4,
  "nbformat_minor": 0,
  "metadata": {
    "colab": {
      "provenance": [],
      "collapsed_sections": [
        "1qxQBtYYF1i0"
      ],
      "authorship_tag": "ABX9TyOzZnAgZdNb7JNwYDT7dyJD",
      "include_colab_link": true
    },
    "kernelspec": {
      "name": "python3",
      "display_name": "Python 3"
    },
    "language_info": {
      "name": "python"
    }
  },
  "cells": [
    {
      "cell_type": "markdown",
      "metadata": {
        "id": "view-in-github",
        "colab_type": "text"
      },
      "source": [
        "<a href=\"https://colab.research.google.com/github/juathanduarte/cncomp/blob/main/CNCP.ipynb\" target=\"_parent\"><img src=\"https://colab.research.google.com/assets/colab-badge.svg\" alt=\"Open In Colab\"/></a>"
      ]
    },
    {
      "cell_type": "code",
      "execution_count": null,
      "metadata": {
        "id": "kukjKNvfEyT0"
      },
      "outputs": [],
      "source": [
        "import numpy as np\n",
        "import matplotlib.pyplot as plt"
      ]
    },
    {
      "cell_type": "markdown",
      "source": [
        "### **Função de Bisseção**"
      ],
      "metadata": {
        "id": "1qxQBtYYF1i0"
      }
    },
    {
      "cell_type": "markdown",
      "source": [
        "> Definir a função bisect que recebe como parâmetros a função f, o intervalo [a, b] e a precisão."
      ],
      "metadata": {
        "id": "icXk3oQIKSxS"
      }
    },
    {
      "cell_type": "code",
      "source": [
        "f = lambda x: x**3 - 9*x + 5\n",
        "a, b = 0.5, 1\n",
        "precision = 0.01"
      ],
      "metadata": {
        "id": "6XNhWcmYFOhf"
      },
      "execution_count": null,
      "outputs": []
    },
    {
      "cell_type": "code",
      "source": [
        "def bisect(f, a, b, precision):\n",
        "    if f(a) * f(b) >= 0:\n",
        "        print(\"Bisseção falhou\")\n",
        "        return None\n",
        "    \n",
        "    m = (a + b) / 2\n",
        "    \n",
        "    while abs(f(m)) >= precision:\n",
        "        m = (a + b) / 2\n",
        "        if f(m) == 0:\n",
        "            return m\n",
        "        if f(a) * f(m) < 0:\n",
        "            b = m\n",
        "        else:\n",
        "            a = m\n",
        "    return m"
      ],
      "metadata": {
        "id": "h81j9Qm8FHDx"
      },
      "execution_count": null,
      "outputs": []
    },
    {
      "cell_type": "markdown",
      "source": [
        "\n",
        "\n",
        "> Chamada do método da bissecção e printar a função com a raiz encontrada.\n",
        "\n"
      ],
      "metadata": {
        "id": "JIsUx6YoKrNd"
      }
    },
    {
      "cell_type": "code",
      "source": [
        "root = bisect(f, a, b, precision)\n",
        "print(f\"Raiz encontrada: {root}\")"
      ],
      "metadata": {
        "colab": {
          "base_uri": "https://localhost:8080/"
        },
        "id": "j2Nr1YyXKDXB",
        "outputId": "fe4c4b75-2aeb-423c-f9b7-a3b75f376f16"
      },
      "execution_count": null,
      "outputs": [
        {
          "output_type": "stream",
          "name": "stdout",
          "text": [
            "Raiz encontrada: 0.578125\n"
          ]
        }
      ]
    },
    {
      "cell_type": "markdown",
      "source": [
        "> Plotar a função e a raiz encontrada."
      ],
      "metadata": {
        "id": "ocoCHatLLBuT"
      }
    },
    {
      "cell_type": "code",
      "source": [
        "x = np.linspace(a, b, 100)\n",
        "y = f(x)\n",
        "plt.plot(x, y)\n",
        "plt.plot(root, f(root), 'ro')\n",
        "plt.xlabel('x')\n",
        "plt.ylabel('f(x)')\n",
        "plt.title('Método da Bissecção')\n",
        "plt.show()"
      ],
      "metadata": {
        "colab": {
          "base_uri": "https://localhost:8080/",
          "height": 295
        },
        "id": "Kjmnx9rjKHsG",
        "outputId": "fe68ee7c-36e1-4f7c-f24a-74a74540c23b"
      },
      "execution_count": null,
      "outputs": [
        {
          "output_type": "display_data",
          "data": {
            "text/plain": [
              "<Figure size 432x288 with 1 Axes>"
            ],
            "image/png": "[encoded data removed]"
          },
          "metadata": {
            "needs_background": "light"
          }
        }
      ]
    },
    {
      "cell_type": "markdown",
      "source": [
        "### **Função Falsa Posição**"
      ],
      "metadata": {
        "id": "rpQKr-U-GIi6"
      }
    },
    {
      "cell_type": "markdown",
      "source": [
        "> Definir a função falsePosition que recebe como parâmetros a função f, o intervalo [a, b] e a precisão.\n",
        "\n"
      ],
      "metadata": {
        "id": "2s-cHH3NPU-C"
      }
    },
    {
      "cell_type": "code",
      "source": [
        "f = lambda x: x**3 - 9*x + 5\n",
        "a, b = 0, 1\n",
        "precision = 0.0005"
      ],
      "metadata": {
        "id": "zB7l_p0dPdNM"
      },
      "execution_count": 11,
      "outputs": []
    },
    {
      "cell_type": "code",
      "source": [
        "def falsePosition(f, a, b, precision):\n",
        "    if f(a) * f(b) >= 0:\n",
        "        print(\"Falsa posição falhou\")\n",
        "        return None\n",
        "    \n",
        "    while abs(b - a) >= precision:\n",
        "        m = (a * f(b) - b * f(a)) / (f(b) - f(a))\n",
        "        if f(m) == 0:\n",
        "            return m\n",
        "        if f(a) * f(m) < 0:\n",
        "            b = m\n",
        "        else:\n",
        "            a = m\n",
        "    return m"
      ],
      "metadata": {
        "id": "NNE4CCh6GQkd"
      },
      "execution_count": 12,
      "outputs": []
    },
    {
      "cell_type": "markdown",
      "source": [
        "> Chamada do método da falsa posição e printar a função com a raiz encontrada.\n",
        "\n"
      ],
      "metadata": {
        "id": "-6gekkGYG6Bm"
      }
    },
    {
      "cell_type": "code",
      "source": [
        "root = falsePosition(f, a, b, precision)\n",
        "print(f\"Raiz encontrada: {root}\")"
      ],
      "metadata": {
        "colab": {
          "base_uri": "https://localhost:8080/"
        },
        "id": "dX4Ed5UNP2Qb",
        "outputId": "91105cec-baf5-4844-cddc-24adb5aad033"
      },
      "execution_count": 13,
      "outputs": [
        {
          "output_type": "stream",
          "name": "stdout",
          "text": [
            "Raiz encontrada: 0.5768875239163401\n"
          ]
        }
      ]
    },
    {
      "cell_type": "markdown",
      "source": [
        "\n",
        "\n",
        "> Plotar a função e a raiz encontrada\n",
        "\n"
      ],
      "metadata": {
        "id": "2P4VlIEZP62X"
      }
    },
    {
      "cell_type": "code",
      "source": [
        "x = np.linspace(a, b, 100)\n",
        "y = f(x)\n",
        "plt.plot(x, y)\n",
        "plt.plot(root, f(root), 'ro')\n",
        "plt.xlabel('x')\n",
        "plt.ylabel('f(x)')\n",
        "plt.title('Método da Falsa Posição')\n",
        "plt.show()"
      ],
      "metadata": {
        "colab": {
          "base_uri": "https://localhost:8080/",
          "height": 295
        },
        "id": "UTLYfnevP-Y2",
        "outputId": "f23e635f-8d8e-489f-8d01-7735040eb157"
      },
      "execution_count": 14,
      "outputs": [
        {
          "output_type": "display_data",
          "data": {
            "text/plain": [
              "<Figure size 432x288 with 1 Axes>"
            ],
            "image/png": "[encoded data removed]"
          },
          "metadata": {
            "needs_background": "light"
          }
        }
      ]
    }
  ]
}