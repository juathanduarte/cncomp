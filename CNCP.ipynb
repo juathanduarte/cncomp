{
  "nbformat": 4,
  "nbformat_minor": 0,
  "metadata": {
    "colab": {
      "provenance": [],
      "collapsed_sections": [
        "1qxQBtYYF1i0",
        "rpQKr-U-GIi6",
        "LuCcdqsGjVuG"
      ],
      "authorship_tag": "ABX9TyMbISDz8bXTpMaj7OIUiIkE",
      "include_colab_link": true
    },
    "kernelspec": {
      "name": "python3",
      "display_name": "Python 3"
    },
    "language_info": {
      "name": "python"
    }
  },
  "cells": [
    {
      "cell_type": "markdown",
      "metadata": {
        "id": "view-in-github",
        "colab_type": "text"
      },
      "source": [
        "<a href=\"https://colab.research.google.com/github/juathanduarte/cncomp/blob/main/CNCP.ipynb\" target=\"_parent\"><img src=\"https://colab.research.google.com/assets/colab-badge.svg\" alt=\"Open In Colab\"/></a>"
      ]
    },
    {
      "cell_type": "code",
      "execution_count": null,
      "metadata": {
        "id": "kukjKNvfEyT0"
      },
      "outputs": [],
      "source": [
        "import numpy as np\n",
        "import matplotlib.pyplot as plt\n",
        "from sympy import *"
      ]
    },
    {
      "cell_type": "markdown",
      "source": [
        "### **Função de Bisseção**"
      ],
      "metadata": {
        "id": "1qxQBtYYF1i0"
      }
    },
    {
      "cell_type": "markdown",
      "source": [
        "> Definir a função bisect que recebe como parâmetros a função f, o intervalo [a, b] e a precisão."
      ],
      "metadata": {
        "id": "icXk3oQIKSxS"
      }
    },
    {
      "cell_type": "code",
      "source": [
        "f = lambda x: x**3 - 9*x + 5\n",
        "a, b = 0.5, 1\n",
        "precision = 0.01"
      ],
      "metadata": {
        "id": "6XNhWcmYFOhf"
      },
      "execution_count": null,
      "outputs": []
    },
    {
      "cell_type": "code",
      "source": [
        "def bisect(f, a, b, precision):\n",
        "    if f(a) * f(b) >= 0:\n",
        "        print(\"Bisseção falhou\")\n",
        "        return None\n",
        "    \n",
        "    m = (a + b) / 2\n",
        "    \n",
        "    while abs(f(m)) >= precision:\n",
        "        m = (a + b) / 2\n",
        "        if f(m) == 0:\n",
        "            return m\n",
        "        if f(a) * f(m) < 0:\n",
        "            b = m\n",
        "        else:\n",
        "            a = m\n",
        "    return m"
      ],
      "metadata": {
        "id": "h81j9Qm8FHDx"
      },
      "execution_count": null,
      "outputs": []
    },
    {
      "cell_type": "markdown",
      "source": [
        "\n",
        "\n",
        "> Chamada do método da bissecção e printar a função com a raiz encontrada.\n",
        "\n"
      ],
      "metadata": {
        "id": "JIsUx6YoKrNd"
      }
    },
    {
      "cell_type": "code",
      "source": [
        "root = bisect(f, a, b, precision)\n",
        "print(f\"Raiz encontrada: {root}\")"
      ],
      "metadata": {
        "colab": {
          "base_uri": "https://localhost:8080/"
        },
        "id": "j2Nr1YyXKDXB",
        "outputId": "16975d83-7243-4a57-c19a-081cc6cdeeb8"
      },
      "execution_count": null,
      "outputs": [
        {
          "output_type": "stream",
          "name": "stdout",
          "text": [
            "Raiz encontrada: 0.578125\n"
          ]
        }
      ]
    },
    {
      "cell_type": "markdown",
      "source": [
        "> Plotar a função e a raiz encontrada."
      ],
      "metadata": {
        "id": "ocoCHatLLBuT"
      }
    },
    {
      "cell_type": "code",
      "source": [
        "x = np.linspace(a, b, 100)\n",
        "y = f(x)\n",
        "plt.plot(x, y, linestyle='-')\n",
        "plt.plot(root, f(root), 'ro')\n",
        "plt.xlabel('x')\n",
        "plt.ylabel('f(x)')\n",
        "plt.axhline(y=0, color='red')\n",
        "plt.title('Método da Bissecção')\n",
        "plt.grid()\n",
        "plt.show()"
      ],
      "metadata": {
        "colab": {
          "base_uri": "https://localhost:8080/",
          "height": 295
        },
        "id": "Kjmnx9rjKHsG",
        "outputId": "a33ccb9e-ecbc-4814-be05-d43a6b90e9da"
      },
      "execution_count": null,
      "outputs": [
        {
          "output_type": "display_data",
          "data": {
            "text/plain": [
              "<Figure size 432x288 with 1 Axes>"
            ],
            "image/png": "[encoded data removed]"
          },
          "metadata": {
            "needs_background": "light"
          }
        }
      ]
    },
    {
      "cell_type": "markdown",
      "source": [
        "### **Função Falsa Posição**"
      ],
      "metadata": {
        "id": "rpQKr-U-GIi6"
      }
    },
    {
      "cell_type": "markdown",
      "source": [
        "> Definir a função falsePosition que recebe como parâmetros a função f, o intervalo [a, b] e a precisão.\n",
        "\n"
      ],
      "metadata": {
        "id": "2s-cHH3NPU-C"
      }
    },
    {
      "cell_type": "code",
      "source": [
        "f = lambda x: x**3 - 9*x + 5\n",
        "a, b = 0, 1\n",
        "precision = 0.0005"
      ],
      "metadata": {
        "id": "zB7l_p0dPdNM"
      },
      "execution_count": null,
      "outputs": []
    },
    {
      "cell_type": "code",
      "source": [
        "def falsePosition(f, a, b, precision):\n",
        "    if f(a) * f(b) >= 0:\n",
        "        print(\"Falsa posição falhou\")\n",
        "        return None\n",
        "    \n",
        "    while abs(b - a) >= precision:\n",
        "        m = (a * f(b) - b * f(a)) / (f(b) - f(a))\n",
        "        if f(m) == 0:\n",
        "            return m\n",
        "        if f(a) * f(m) < 0:\n",
        "            b = m\n",
        "        else:\n",
        "            a = m\n",
        "    return m"
      ],
      "metadata": {
        "id": "NNE4CCh6GQkd"
      },
      "execution_count": null,
      "outputs": []
    },
    {
      "cell_type": "markdown",
      "source": [
        "> Chamada do método da falsa posição e printar a função com a raiz encontrada.\n",
        "\n"
      ],
      "metadata": {
        "id": "-6gekkGYG6Bm"
      }
    },
    {
      "cell_type": "code",
      "source": [
        "root = falsePosition(f, a, b, precision)\n",
        "print(f\"Raiz encontrada: {root}\")"
      ],
      "metadata": {
        "colab": {
          "base_uri": "https://localhost:8080/"
        },
        "id": "dX4Ed5UNP2Qb",
        "outputId": "9ffae156-9b24-4cca-a171-b2f85699621a"
      },
      "execution_count": null,
      "outputs": [
        {
          "output_type": "stream",
          "name": "stdout",
          "text": [
            "Raiz encontrada: 0.5768875239163401\n"
          ]
        }
      ]
    },
    {
      "cell_type": "markdown",
      "source": [
        "\n",
        "\n",
        "> Plotar a função e a raiz encontrada\n",
        "\n"
      ],
      "metadata": {
        "id": "2P4VlIEZP62X"
      }
    },
    {
      "cell_type": "code",
      "source": [
        "x = np.linspace(a, b, 100)\n",
        "y = f(x)\n",
        "plt.plot(x, y, linestyle='-')\n",
        "plt.plot(root, f(root), 'ro')\n",
        "plt.xlabel('x')\n",
        "plt.ylabel('f(x)')\n",
        "plt.axhline(y=0, color='red')\n",
        "plt.title('Método da Falsa Posição')\n",
        "plt.grid()\n",
        "plt.show()"
      ],
      "metadata": {
        "colab": {
          "base_uri": "https://localhost:8080/",
          "height": 295
        },
        "id": "UTLYfnevP-Y2",
        "outputId": "9571b905-7878-4f85-aa74-ac53706f5b48"
      },
      "execution_count": null,
      "outputs": [
        {
          "output_type": "display_data",
          "data": {
            "text/plain": [
              "<Figure size 432x288 with 1 Axes>"
            ],
            "image/png": "[encoded data removed]"
          },
          "metadata": {
            "needs_background": "light"
          }
        }
      ]
    },
    {
      "cell_type": "markdown",
      "source": [
        "### **Função Newton Raphson**"
      ],
      "metadata": {
        "id": "LuCcdqsGjVuG"
      }
    },
    {
      "cell_type": "markdown",
      "source": [
        ">Definir a função newtonRaphson que recebe como parâmetros a função f, o x0 e a precisão."
      ],
      "metadata": {
        "id": "Cdgg_Wc9nVlA"
      }
    },
    {
      "cell_type": "code",
      "source": [
        "x = Symbol('x')\n",
        "f = (x**3) - (9*x) + 3\n",
        "x0 = 0.75\n",
        "precision = 0.01\n",
        "# f = (x**5) - (10/9) * (x**3) + (5/21) * x\n",
        "\n",
        "df = f.diff(x)\n",
        "f1 = lambdify(x, df)\n",
        "f = lambdify(x, f)"
      ],
      "metadata": {
        "id": "EScWCjVunSNz"
      },
      "execution_count": null,
      "outputs": []
    },
    {
      "cell_type": "code",
      "source": [
        "def newtonRaphson(f, x0, precision):    \n",
        "    if(abs(f(x0)) < precision):\n",
        "        print(\"Newton Raphson falhou\")\n",
        "        return None\n",
        "    \n",
        "    k = x0 - f(x0)/f1(x0)\n",
        "    \n",
        "    while abs(f(x0)) >= precision:\n",
        "        x0 = k\n",
        "        k = x0 - f(x0)/f1(x0)\n",
        "    return x0"
      ],
      "metadata": {
        "id": "PAhKopxNobt1"
      },
      "execution_count": null,
      "outputs": []
    },
    {
      "cell_type": "markdown",
      "source": [
        ">Chamada do método de Newton Raphson e printar a função com a raiz encontrada."
      ],
      "metadata": {
        "id": "6MljJWDBoefa"
      }
    },
    {
      "cell_type": "code",
      "source": [
        "root = newtonRaphson(f, x0, precision)\n",
        "print(f\"Raiz encontrada: {root}\")"
      ],
      "metadata": {
        "colab": {
          "base_uri": "https://localhost:8080/"
        },
        "id": "OBb_fWQOohHN",
        "outputId": "484d75af-2e04-4c27-b3d8-0840960899b2"
      },
      "execution_count": null,
      "outputs": [
        {
          "output_type": "stream",
          "name": "stdout",
          "text": [
            "Raiz encontrada: 0.33741514117297\n"
          ]
        }
      ]
    },
    {
      "cell_type": "markdown",
      "source": [
        ">Plotar a função e a raiz encontrada."
      ],
      "metadata": {
        "id": "kHPSgU26om4A"
      }
    },
    {
      "cell_type": "code",
      "source": [
        "x = np.linspace(-10, 10, 100)\n",
        "y = f(x)\n",
        "plt.plot(x, y, linestyle='-')\n",
        "plt.plot(root, f(root), 'ro')\n",
        "plt.xlabel('x')\n",
        "plt.ylabel('f(x)')\n",
        "plt.axhline(y=0, color='red')\n",
        "plt.title('Método de Newton Raphson')\n",
        "plt.grid()\n",
        "plt.show()"
      ],
      "metadata": {
        "colab": {
          "base_uri": "https://localhost:8080/",
          "height": 295
        },
        "id": "huOwRvGYoqkj",
        "outputId": "d252b0a3-a800-4fe5-994d-b93251d3cf59"
      },
      "execution_count": null,
      "outputs": [
        {
          "output_type": "display_data",
          "data": {
            "text/plain": [
              "<Figure size 432x288 with 1 Axes>"
            ],
            "image/png": "[encoded data removed]"
          },
          "metadata": {
            "needs_background": "light"
          }
        }
      ]
    },
    {
      "cell_type": "markdown",
      "source": [
        "### **Função da Secante**"
      ],
      "metadata": {
        "id": "664aLINyox3q"
      }
    },
    {
      "cell_type": "markdown",
      "source": [
        ">Definir a função secante que recebe como parâmetros a função f, x0, x1 e a precisão."
      ],
      "metadata": {
        "id": "Dm5b-YRlo4G2"
      }
    },
    {
      "cell_type": "code",
      "source": [
        "x = Symbol('x')\n",
        "f = (x**3) - (9*x) + 3\n",
        "x0 = 0\n",
        "x1 = 1\n",
        "precision = 5 * 10**(-4)\n",
        "\n",
        "df = f.diff(x)\n",
        "f1 = lambdify(x, df)\n",
        "f = lambdify(x, f)"
      ],
      "metadata": {
        "id": "CvxhrrD5o1I_"
      },
      "execution_count": null,
      "outputs": []
    },
    {
      "cell_type": "code",
      "source": [
        "def secante(f, x0, x1, precision):\n",
        "    if(abs(f(x0)) < precision) or (abs(f(x1)) < precision):\n",
        "        print(\"Secante falhou\")\n",
        "        return None\n",
        "    \n",
        "    while abs(f(x1)) >= precision:\n",
        "        x2 = x1 - (f(x1) / (f(x1) - f(x0)) * (x1 - x0))\n",
        "        \n",
        "        if abs(f(x2)) < precision:\n",
        "            return x2\n",
        "        \n",
        "        x0 = x1\n",
        "        x1 = x2\n",
        "        \n",
        "        return x2"
      ],
      "metadata": {
        "id": "acWKRpado9c4"
      },
      "execution_count": null,
      "outputs": []
    },
    {
      "cell_type": "markdown",
      "source": [
        ">Chamada do método da secante e printar a função com a raiz encontrada."
      ],
      "metadata": {
        "id": "Jf70sZ4ao9JG"
      }
    },
    {
      "cell_type": "code",
      "source": [
        "root = secante(f, x0, x1, precision)\n",
        "print(f\"Raiz encontrada: {root}\")"
      ],
      "metadata": {
        "colab": {
          "base_uri": "https://localhost:8080/"
        },
        "id": "GxfzmJK4pD4k",
        "outputId": "92200f7d-1044-4e1c-932c-ed3f4f3d98de"
      },
      "execution_count": null,
      "outputs": [
        {
          "output_type": "stream",
          "name": "stdout",
          "text": [
            "Raiz encontrada: 0.375\n"
          ]
        }
      ]
    },
    {
      "cell_type": "markdown",
      "source": [
        ">Plotar a função e a raiz encontrada."
      ],
      "metadata": {
        "id": "FnKOXjQZpHB1"
      }
    },
    {
      "cell_type": "code",
      "source": [
        "x = np.linspace(-10, 10, 100)\n",
        "y = f(x)\n",
        "plt.plot(x, y, linestyle='-')\n",
        "plt.plot(root, f(root), 'ro')\n",
        "plt.xlabel('x')\n",
        "plt.ylabel('f(x)')\n",
        "plt.axhline(y=0, color='red')\n",
        "plt.title('Método da Secante')\n",
        "plt.grid()\n",
        "plt.show()"
      ],
      "metadata": {
        "colab": {
          "base_uri": "https://localhost:8080/",
          "height": 295
        },
        "id": "gBFt2107pGCG",
        "outputId": "c8070240-e47f-4dae-c83d-d2da6ea38754"
      },
      "execution_count": null,
      "outputs": [
        {
          "output_type": "display_data",
          "data": {
            "text/plain": [
              "<Figure size 432x288 with 1 Axes>"
            ],
            "image/png": "[encoded data removed]"
          },
          "metadata": {
            "needs_background": "light"
          }
        }
      ]
    }
  ]
}