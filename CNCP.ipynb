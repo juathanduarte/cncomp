{
  "cells": [
    {
      "cell_type": "code",
      "execution_count": 1,
      "metadata": {
        "id": "kukjKNvfEyT0"
      },
      "outputs": [],
      "source": [
        "import math"
      ]
    },
    {
      "cell_type": "markdown",
      "metadata": {
        "id": "1qxQBtYYF1i0"
      },
      "source": [
        "### **Função de Bisseção**"
      ]
    },
    {
      "cell_type": "code",
      "execution_count": 3,
      "metadata": {
        "id": "h81j9Qm8FHDx"
      },
      "outputs": [],
      "source": [
        "def bissecao(f, a, b, precision):\n",
        "    if f(a) * f(b) >= 0:\n",
        "        print(\"Bisseção falhou\")\n",
        "        return None\n",
        "    \n",
        "    m = (a + b) / 2\n",
        "    \n",
        "    while abs(f(m)) >= precision:\n",
        "        m = (a + b) / 2\n",
        "        print(\"a: \", a, \"b: \", b, \"m: \", m, \"f(m): \", f(m), \"f(a): \", f(a))\n",
        "        if f(m) == 0:\n",
        "            return m\n",
        "        if f(a) * f(m) < 0:\n",
        "            b = m\n",
        "        else:\n",
        "            a = m\n",
        "    return m"
      ]
    },
    {
      "cell_type": "markdown",
      "metadata": {
        "id": "LyOoYFSwGqvL"
      },
      "source": [
        "***Exemplos***"
      ]
    },
    {
      "cell_type": "code",
      "execution_count": 4,
      "metadata": {
        "colab": {
          "base_uri": "https://localhost:8080/"
        },
        "id": "6XNhWcmYFOhf",
        "outputId": "8a80a883-5f73-4a5c-e6e2-bd73fdd1db16"
      },
      "outputs": [
        {
          "name": "stdout",
          "output_type": "stream",
          "text": [
            "a:  0.5 b:  1 m:  0.75 f(m):  -1.328125 f(a):  0.625\n",
            "a:  0.5 b:  0.75 m:  0.625 f(m):  -0.380859375 f(a):  0.625\n",
            "a:  0.5 b:  0.625 m:  0.5625 f(m):  0.115478515625 f(a):  0.625\n",
            "a:  0.5625 b:  0.625 m:  0.59375 f(m):  -0.134429931640625 f(a):  0.115478515625\n",
            "a:  0.5625 b:  0.59375 m:  0.578125 f(m):  -0.009899139404296875 f(a):  0.115478515625\n",
            "Resultado final:  0.578125\n"
          ]
        }
      ],
      "source": [
        "f = lambda x: x**3 - 9*x + 5\n",
        "\n",
        "print(\"Resultado final: \", bissecao(f, 0.5, 1, 0.01))"
      ]
    },
    {
      "cell_type": "markdown",
      "metadata": {
        "id": "rpQKr-U-GIi6"
      },
      "source": [
        "### **Função Falsa Posição**"
      ]
    },
    {
      "cell_type": "code",
      "execution_count": 5,
      "metadata": {
        "id": "NNE4CCh6GQkd"
      },
      "outputs": [],
      "source": [
        "def falsaPosicao(f, a, b, precision1, precision2):\n",
        "    if f(a) * f(b) >= 0:\n",
        "        print(\"Falsa posição falhou\")\n",
        "        return None\n",
        "    \n",
        "    while abs(b - a) >= precision1:\n",
        "        m = (a * f(b) - b * f(a)) / (f(b) - f(a))\n",
        "        print(\"a: \", a, \"b: \", b, \"m: \", m, \"f(m): \", f(m), \"f(a): \", f(a))\n",
        "        if f(m) == 0:\n",
        "            return m\n",
        "        if f(a) * f(m) < 0:\n",
        "            b = m\n",
        "        else:\n",
        "            a = m\n",
        "    return m"
      ]
    },
    {
      "cell_type": "markdown",
      "metadata": {
        "id": "-6gekkGYG6Bm"
      },
      "source": [
        "***Exemplos***"
      ]
    },
    {
      "cell_type": "code",
      "execution_count": 7,
      "metadata": {
        "colab": {
          "base_uri": "https://localhost:8080/"
        },
        "id": "2QV6UOACGdae",
        "outputId": "3cec3ebd-abd9-4075-af62-8cf5c20f1792"
      },
      "outputs": [
        {
          "name": "stdout",
          "output_type": "stream",
          "text": [
            "a:  0 b:  1 m:  0.625 f(m):  -0.380859375 f(a):  5\n",
            "a:  0 b:  0.625 m:  0.5807622504537205 f(m):  -0.03097797949789083 f(a):  5\n",
            "a:  0 b:  0.5807622504537205 m:  0.5771862377657262 f(m):  -0.002390034986881062 f(a):  5\n",
            "a:  0 b:  0.5771862377657262 m:  0.5769104705239562 f(m):  -0.0001836087182356394 f(a):  5\n",
            "a:  0 b:  0.5769104705239562 m:  0.5768892861434776 f(m):  -1.4100635436165021e-05 f(a):  5\n",
            "a:  0 b:  0.5768892861434776 m:  0.5768876592469634 f(m):  -1.0828618020042313e-06 f(a):  5\n",
            "a:  0 b:  0.5768876592469634 m:  0.5768875343090684 f(m):  -8.315847832562895e-08 f(a):  5\n",
            "a:  0 b:  0.5768875343090684 m:  0.5768875247144506 f(m):  -6.386161821581027e-09 f(a):  5\n",
            "a:  0 b:  0.5768875247144506 m:  0.5768875239776312 f(m):  -4.904263661842378e-10 f(a):  5\n",
            "a:  0 b:  0.5768875239776312 m:  0.576887523921047 f(m):  -3.766231770896411e-11 f(a):  5\n",
            "a:  0 b:  0.576887523921047 m:  0.5768875239167016 f(m):  -2.8919089345436078e-12 f(a):  5\n",
            "a:  0 b:  0.5768875239167016 m:  0.576887523916368 f(m):  -2.2293278334473143e-13 f(a):  5\n",
            "a:  0 b:  0.576887523916368 m:  0.5768875239163423 f(m):  -1.7763568394002505e-14 f(a):  5\n",
            "a:  0 b:  0.5768875239163423 m:  0.5768875239163404 f(m):  -1.7763568394002505e-15 f(a):  5\n",
            "a:  0 b:  0.5768875239163404 m:  0.5768875239163401 f(m):  8.881784197001252e-16 f(a):  5\n",
            "Resultado final:  0.5768875239163401\n"
          ]
        }
      ],
      "source": [
        "f = lambda x: x**3 - 9*x + 5\n",
        "\n",
        "print(\"Resultado final: \", falsaPosicao(f, 0, 1, 0.0005, 0.01))"
      ]
    }
  ],
  "metadata": {
    "colab": {
      "provenance": []
    },
    "kernelspec": {
      "display_name": "Python 3",
      "language": "python",
      "name": "python3"
    },
    "language_info": {
      "name": "python",
      "version": "3.10.6"
    },
    "vscode": {
      "interpreter": {
        "hash": "916dbcbb3f70747c44a77c7bcd40155683ae19c65e1c03b4aa3499c5328201f1"
      }
    }
  },
  "nbformat": 4,
  "nbformat_minor": 0
}
