{
  "nbformat": 4,
  "nbformat_minor": 0,
  "metadata": {
    "colab": {
      "provenance": [],
      "collapsed_sections": [
        "1qxQBtYYF1i0",
        "rpQKr-U-GIi6",
        "LuCcdqsGjVuG",
        "664aLINyox3q"
      ],
      "authorship_tag": "ABX9TyNtWSgPOs7BheexOq0nctO9",
      "include_colab_link": true
    },
    "kernelspec": {
      "name": "python3",
      "display_name": "Python 3"
    },
    "language_info": {
      "name": "python"
    }
  },
  "cells": [
    {
      "cell_type": "markdown",
      "metadata": {
        "id": "view-in-github",
        "colab_type": "text"
      },
      "source": [
        "<a href=\"https://colab.research.google.com/github/juathanduarte/cncomp/blob/main/Relat%C3%B3rio_1.ipynb\" target=\"_parent\"><img src=\"https://colab.research.google.com/assets/colab-badge.svg\" alt=\"Open In Colab\"/></a>"
      ]
    },
    {
      "cell_type": "code",
      "execution_count": null,
      "metadata": {
        "id": "kukjKNvfEyT0"
      },
      "outputs": [],
      "source": [
        "import math\n",
        "import numpy as np\n",
        "import matplotlib.pyplot as plt\n",
        "from sympy import *"
      ]
    },
    {
      "cell_type": "markdown",
      "source": [
        "### **Função de Bisseção**"
      ],
      "metadata": {
        "id": "1qxQBtYYF1i0"
      }
    },
    {
      "cell_type": "code",
      "source": [
        "def bisect(f, a, b, precision):\n",
        "    if f(a) * f(b) >= 0:\n",
        "        print(\"Bisseção falhou\")\n",
        "        return None\n",
        "    \n",
        "    m = (a + b) / 2\n",
        "    \n",
        "    while abs(f(m)) >= precision:\n",
        "        m = (a + b) / 2\n",
        "        if f(m) == 0:\n",
        "            return m\n",
        "        if f(a) * f(m) < 0:\n",
        "            b = m\n",
        "        else:\n",
        "            a = m\n",
        "            \n",
        "        arrayX.append(m)\n",
        "        arrayY.append(f(m))\n",
        "    return m"
      ],
      "metadata": {
        "id": "h81j9Qm8FHDx"
      },
      "execution_count": null,
      "outputs": []
    },
    {
      "cell_type": "markdown",
      "source": [
        "### **Função Falsa Posição**"
      ],
      "metadata": {
        "id": "rpQKr-U-GIi6"
      }
    },
    {
      "cell_type": "code",
      "source": [
        "def falsePosition(f, a, b, precision):\n",
        "    if f(a) * f(b) >= 0:\n",
        "        print(\"Falsa posição falhou\")\n",
        "        return None\n",
        "    \n",
        "    while abs(b - a) >= precision:\n",
        "        m = (a * f(b) - b * f(a)) / (f(b) - f(a))\n",
        "        if f(m) == 0:\n",
        "            return m\n",
        "        if f(a) * f(m) < 0:\n",
        "            b = m\n",
        "        else:\n",
        "            a = m\n",
        "            \n",
        "        arrayX.append(m)\n",
        "        arrayY.append(f(m))\n",
        "    return m"
      ],
      "metadata": {
        "id": "NNE4CCh6GQkd"
      },
      "execution_count": null,
      "outputs": []
    },
    {
      "cell_type": "markdown",
      "source": [
        "### **Função Newton Raphson**"
      ],
      "metadata": {
        "id": "LuCcdqsGjVuG"
      }
    },
    {
      "cell_type": "code",
      "source": [
        "def newtonRaphson(f, x0, precision):    \n",
        "    if(abs(f(x0)) < precision):\n",
        "        print(\"Newton Raphson falhou\")\n",
        "        return None\n",
        "    \n",
        "    k = x0 - f(x0)/f1(x0)\n",
        "    \n",
        "    while abs(f(x0)) >= precision:\n",
        "        x0 = k\n",
        "        k = x0 - f(x0)/f1(x0)\n",
        "        \n",
        "        arrayX.append(k)\n",
        "        arrayY.append(f(k))\n",
        "    return x0"
      ],
      "metadata": {
        "id": "PAhKopxNobt1"
      },
      "execution_count": null,
      "outputs": []
    },
    {
      "cell_type": "markdown",
      "source": [
        "### **Função da Secante**"
      ],
      "metadata": {
        "id": "664aLINyox3q"
      }
    },
    {
      "cell_type": "code",
      "source": [
        "def secante(f, x0, x1, precision):\n",
        "    if(abs(f(x0)) < precision) or (abs(f(x1)) < precision):\n",
        "        print(\"Secante falhou\")\n",
        "        return None\n",
        "    \n",
        "    while abs(f(x1)) >= precision:\n",
        "        x2 = x1 - (f(x1) / (f(x1) - f(x0)) * (x1 - x0))\n",
        "        \n",
        "        if abs(f(x2)) < precision:\n",
        "            return x2\n",
        "        \n",
        "        x0 = x1\n",
        "        x1 = x2\n",
        "        \n",
        "        arrayX.append(x2)\n",
        "        arrayY.append(f(x2))\n",
        "        \n",
        "        return x2"
      ],
      "metadata": {
        "id": "acWKRpado9c4"
      },
      "execution_count": null,
      "outputs": []
    }
  ]
}